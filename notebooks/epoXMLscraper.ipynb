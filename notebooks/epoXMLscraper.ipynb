{
 "cells": [
  {
   "cell_type": "code",
   "execution_count": null,
   "metadata": {
    "collapsed": false
   },
   "outputs": [],
   "source": [
    "import csv, requests, re\n",
    "from urllib.request import urlretrieve\n",
    "from random import randint\n",
    "import glob\n",
    "from time import sleep\n",
    "from bs4 import BeautifulSoup as bs"
   ]
  },
  {
   "cell_type": "code",
   "execution_count": null,
   "metadata": {
    "collapsed": true
   },
   "outputs": [],
   "source": [
    "def rand():\n",
    "    return randint(0,5)*0.1"
   ]
  },
  {
   "cell_type": "code",
   "execution_count": null,
   "metadata": {
    "collapsed": false
   },
   "outputs": [],
   "source": [
    "def get_links(searchterm):\n",
    "    ### get all application numbers according to the search term.\n",
    "\n",
    "    searchterm = searchterm.replace(\" \",\"+\")\n",
    "    url = \"https://register.epo.org/smartSearch?searchMode=smart&query=\"+searchterm\n",
    "    \n",
    "    session = requests.Session()\n",
    "    response = session.get(url)\n",
    "    cookie = session.cookies.get_dict()\n",
    "        \n",
    "    r = requests.get(url)\n",
    "    soup = bs(r.text)\n",
    "    \n",
    "    pgs = re.search(\"[0-9]+\", re.escape(soup.find(\"a\", {\"class\" : \"paginationLast\"}).get(\"href\"))).group(0)\n",
    "\n",
    "    appnumbers = []\n",
    "\n",
    "    for nr in range(1,int(pgs)):\n",
    "        print(nr, end=\" \")\n",
    "\n",
    "        inputweb = \"https://register.epo.org/smartSearch?page=\"+str(nr)+\"&query=\"+searchterm+\"&searchMode=smart\"\n",
    "        # print inputweb\n",
    "        \n",
    "        sleep(rand())\n",
    "        \n",
    "        header = {'User-Agent': 'Mozilla/5.0 (X11; Fedora; Linux x86_64; rv:36.0) Gecko/20100101 Firefox/36.0'}\n",
    "        r = requests.get(inputweb, headers=header, cookies=cookie)\n",
    "        soup = bs(r.text)\n",
    "\n",
    "        link = soup.find(\"table\", {\"class\": \"application\"}).find_all(\"a\")\n",
    "        \n",
    "        for l in link:\n",
    "            l = l.get(\"href\")\n",
    "            if 'application?number' in l:\n",
    "                appNUM = l.replace(\"application?number=\",\"\")\n",
    "                appnumbers.append(appNUM)\n",
    "\n",
    "    return appnumbers"
   ]
  },
  {
   "cell_type": "markdown",
   "metadata": {},
   "source": [
    "## Insert your search terms & collect the application numbers"
   ]
  },
  {
   "cell_type": "markdown",
   "metadata": {},
   "source": [
    "[test your search term first](https://register.epo.org/regviewer). The search is being performed in the WHOLE application. The searchterm has to consist of min 3 characters<br>\n",
    "see the [usage of wildcards](https://register.epo.org/help?topic=truncation&lng=en)"
   ]
  },
  {
   "cell_type": "code",
   "execution_count": null,
   "metadata": {
    "collapsed": false
   },
   "outputs": [],
   "source": [
    "searchterms = ['\"Panama city\"','\"The Valley\"',\"Apia\",\"Victoria Mahe\",\"Tortola\",\"Nassau\"]"
   ]
  },
  {
   "cell_type": "code",
   "execution_count": null,
   "metadata": {
    "collapsed": false
   },
   "outputs": [],
   "source": [
    "docnrs = []\n",
    "\n",
    "for s in searchterms:\n",
    "    print(s)\n",
    "    docnrs.extend(get_links(s))"
   ]
  },
  {
   "cell_type": "markdown",
   "metadata": {},
   "source": [
    "### scrape the XMLs"
   ]
  },
  {
   "cell_type": "code",
   "execution_count": null,
   "metadata": {
    "collapsed": false
   },
   "outputs": [],
   "source": [
    "directory = \"./\"\n",
    "\n",
    "for appnum in docnrs:\n",
    "    sleep(rand())\n",
    "    urlretrieve(\"https://register.epo.org/download?number=\"+appnum+\"&tab=main&xml=st36\", directory+appnum+\".xml\")"
   ]
  },
  {
   "cell_type": "code",
   "execution_count": null,
   "metadata": {
    "collapsed": true
   },
   "outputs": [],
   "source": []
  }
 ],
 "metadata": {
  "anaconda-cloud": {},
  "kernelspec": {
   "display_name": "Python [conda root]",
   "language": "python",
   "name": "conda-root-py"
  },
  "language_info": {
   "codemirror_mode": {
    "name": "ipython",
    "version": 3
   },
   "file_extension": ".py",
   "mimetype": "text/x-python",
   "name": "python",
   "nbconvert_exporter": "python",
   "pygments_lexer": "ipython3",
   "version": "3.5.2"
  }
 },
 "nbformat": 4,
 "nbformat_minor": 0
}
