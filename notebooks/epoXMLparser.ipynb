{
 "cells": [
  {
   "cell_type": "code",
   "execution_count": null,
   "metadata": {
    "collapsed": true
   },
   "outputs": [],
   "source": [
    "from bs4 import BeautifulSoup as bs\n",
    "import glob, os, re, csv\n",
    "from datetime import datetime"
   ]
  },
  {
   "cell_type": "code",
   "execution_count": null,
   "metadata": {
    "collapsed": true
   },
   "outputs": [],
   "source": [
    "startTime = datetime.now()"
   ]
  },
  {
   "cell_type": "code",
   "execution_count": null,
   "metadata": {
    "collapsed": false
   },
   "outputs": [],
   "source": [
    "# parse for applicants\n",
    "\n",
    "def parse(xmlfile):\n",
    "\n",
    "    global xmlnum\n",
    "    # numbers in the function names represents how deep in the tree teh function needs to go\n",
    "    # and if it needs to get an attribute of that tag or parse numbers\n",
    "\n",
    "    def iferror(something):\n",
    "\n",
    "        try:\n",
    "            something\n",
    "        except AttributeError:\n",
    "            return \"\"\n",
    "\n",
    "\n",
    "    def iferror1(tagname):\n",
    "\n",
    "        try:\n",
    "            return soup.find(tagname).text\n",
    "        except AttributeError:\n",
    "            return \"\"\n",
    "\n",
    "    def iferror1get(tagname,attrib):\n",
    "\n",
    "        try:\n",
    "            return soup.find(tagname).get(attrib)\n",
    "        except AttributeError:\n",
    "            return \"\"\n",
    "     \n",
    "    def iferror1attrib(tagname,attrib,value):\n",
    "\n",
    "        try:\n",
    "            return soup.find(tagname, attrs={attrib: value}).text\n",
    "        except AttributeError:\n",
    "            return \"\"\n",
    "    \n",
    "\n",
    "\n",
    "    def iferror2(tagname,tagname2):\n",
    "\n",
    "        try:\n",
    "            return soup.find(tagname).find(tagname2).text\n",
    "        except AttributeError:\n",
    "            return \"\"\n",
    "\n",
    "    def iferror2num(tagname,tagname2):\n",
    "\n",
    "        try:\n",
    "            return float(soup.find(tagname).find(tagname2).text.replace(\",\",\".\").replace(\" \",\"\"))\n",
    "        except (AttributeError, ValueError):\n",
    "            return \"\"\n",
    "\n",
    "    def iferror2get(tagname,tagname2,attrib):\n",
    "\n",
    "        try:\n",
    "            return soup.find(tagname).find(tagname2).get(attrib)\n",
    "        except AttributeError:\n",
    "            return \"\"\n",
    "\n",
    "    def makedate(expression):\n",
    "        \n",
    "        try:\n",
    "            pd = datetime.strptime(expression, \"%Y%m%d\").date()\n",
    "            return pd.strftime('%Y-%m-%d')\n",
    "        except:\n",
    "            return ''\n",
    "\n",
    "\n",
    "    soup = bs(xmlfile)\n",
    "\n",
    "    #publication attrs\n",
    "    ID = iferror1get(\"bibliographic-data\",\"id\")\n",
    "    # print ID\n",
    "    url = re.sub(\"P$\",\"\",\"https://register.epo.org/application?number=\"+ID)\n",
    "    title = iferror1attrib(\"invention-title\", \"lang\", \"en\")\n",
    "    status = iferror1get(\"bibliographic-data\",\"status\")\n",
    "    public_date = makedate(iferror2(\"publication-reference\",\"date\"))\n",
    "    public_number = iferror2(\"publication-reference\",\"doc-number\")\n",
    "    appl_date = makedate(iferror2(\"application-reference\",\"date\"))\n",
    "    appl_number = iferror2(\"application-reference\",\"doc-number\")\n",
    "    event_date = makedate(iferror2(\"events-data\",\"date\")) #most recent\n",
    "    event_descr = iferror2(\"events-data\",\"event-text\")\n",
    "\n",
    "    #other applicants in the patent?\n",
    "    if soup.find(\"applicant\", {\"sequence\" : \"2\"}) != None:\n",
    "        others = \"Y\"\n",
    "    else:\n",
    "        others = \"N\"\n",
    "\n",
    "    #citations\n",
    "    citations = []\n",
    "\n",
    "    try:\n",
    "        for cit in soup.find(\"references-cited\").findAll(\"citation\"):\n",
    "        \n",
    "            try:\n",
    "                cit_nr = cit.find(\"doc-number\").text\n",
    "            except AttributeError:\n",
    "                cit_nr = cit.get(\"id\")\n",
    " \n",
    "            citations.append(cit_nr)\n",
    "\n",
    "            citations_num = len(citations)\n",
    "            citations_nrs = \";\".join(citations)\n",
    " \n",
    "    except AttributeError:\n",
    "     \n",
    "        citations_num = 0           \n",
    "\n",
    "    #oponents\n",
    "    if soup.find(\"opponent\") != None:\n",
    "        oponent = \"Y\"\n",
    "    else:\n",
    "        oponent = \"N\"\n",
    "\n",
    "    lapses = []\n",
    "    lapses_nr = None\n",
    "    if soup.find(\"term-of-grant\") != None:\n",
    "        for lapse in soup.find(\"term-of-grant\").findAll(\"lapsed-in-country\"):\n",
    "            lapses.append(lapse.find(\"date\").text)\n",
    "        \n",
    "        lapses_nr = len(lapses)\n",
    "\n",
    "    row = []\n",
    "    \n",
    "    def get_countries(tagname):\n",
    "        \n",
    "        country_list = []\n",
    "        \n",
    "        if soup.find(tagname+'s') != None:\n",
    "            for ca in soup.find(tagname+\"s\").find_all(tagname):\n",
    "                    \n",
    "                country_list.append(ca.find(\"country\").text)\n",
    "                    \n",
    "        return \";\".join(country_list)\n",
    "            \n",
    "    inventors_countries = get_countries(\"inventor\")\n",
    "    representatives_countries = get_countries(\"agent\")\n",
    "    applicants_countries = get_countries(\"applicant\")\n",
    "    \n",
    "    if soup.find(\"applicants\") != None:\n",
    "\n",
    "        for ca in soup.find(\"applicants\").find_all(\"applicant\"):\n",
    "\n",
    "            contract = []    \n",
    "            soup = ca\n",
    "            naam = iferror1(\"name\")\n",
    "            straat = iferror1(\"address-1\")\n",
    "            pscenstad = iferror1(\"address-2\")\n",
    "            land = iferror1(\"country\")\n",
    "\n",
    "            if naam == '':\n",
    "                continue\n",
    "            else: \n",
    "                contract.extend([ID,url,title,status,public_date,public_number,naam,straat,pscenstad,land,applicants_countries,inventors_countries,representatives_countries,appl_date,appl_number,event_date,event_descr,citations_num,oponent,lapses_nr])\n",
    "                row.append(contract)\n",
    "\n",
    "    else:\n",
    "        contract = []\n",
    "        naam = \"geen\"\n",
    "        straat = \"geen\"\n",
    "        pscenstad = \"geen\"\n",
    "        land = \"geen\"\n",
    "\n",
    "        contract.extend([ID,url,title,status,public_date,public_number,naam,straat,pscenstad,land,applicants_countries,inventors_countries,representatives_countries,appl_date,appl_number,event_date,event_descr,citations_num,oponent,lapses_nr])\n",
    "        row.append(contract)\n",
    "\n",
    "    #print(row)\n",
    "    return row"
   ]
  },
  {
   "cell_type": "code",
   "execution_count": null,
   "metadata": {
    "collapsed": false
   },
   "outputs": [],
   "source": [
    "directory = '../'\n",
    "files = glob.glob(directory+'*.xml')"
   ]
  },
  {
   "cell_type": "markdown",
   "metadata": {},
   "source": [
    "in case of hiccups"
   ]
  },
  {
   "cell_type": "code",
   "execution_count": null,
   "metadata": {
    "collapsed": true
   },
   "outputs": [],
   "source": [
    "parsed = []"
   ]
  },
  {
   "cell_type": "code",
   "execution_count": null,
   "metadata": {
    "collapsed": true
   },
   "outputs": [],
   "source": [
    "new = [f for f in files if f not in parsed]"
   ]
  },
  {
   "cell_type": "code",
   "execution_count": null,
   "metadata": {
    "collapsed": false
   },
   "outputs": [],
   "source": [
    "with open(\"../patents-example.csv\", \"w\",  newline='') as outputfile:\n",
    "    writer = csv.writer(outputfile)\n",
    "    header = [\"ID\",\"url\",\"title\",\"status\",\"publication_date\",\"publication_number\",\n",
    "              \"applicant_name\",\"applicant_street\",\"applicant_city\",\"applicant_land\",\n",
    "              \"applicants_from\",\"inventors_from\",\"representatives_from\",\n",
    "              \"application_date\",\"application_number\",\"last_event_date\",\"last_event_description\",\n",
    "              \"number_of_citations\",\"oponents\",\"nr_of_lapses\"]\n",
    "\n",
    "    writer.writerow(header)\n",
    "    \n",
    "    for f in new:\n",
    "\n",
    "        filename = open(f).read()\n",
    "        row = parse(filename)\n",
    "        \n",
    "        if row == None:\n",
    "            continue\n",
    "        else:\n",
    "            writer.writerows(row)\n",
    "            \n",
    "        parsed.append(f)"
   ]
  },
  {
   "cell_type": "code",
   "execution_count": null,
   "metadata": {
    "collapsed": true
   },
   "outputs": [],
   "source": []
  }
 ],
 "metadata": {
  "anaconda-cloud": {},
  "kernelspec": {
   "display_name": "Python [conda root]",
   "language": "python",
   "name": "conda-root-py"
  },
  "language_info": {
   "codemirror_mode": {
    "name": "ipython",
    "version": 3
   },
   "file_extension": ".py",
   "mimetype": "text/x-python",
   "name": "python",
   "nbconvert_exporter": "python",
   "pygments_lexer": "ipython3",
   "version": "3.5.2"
  }
 },
 "nbformat": 4,
 "nbformat_minor": 0
}
